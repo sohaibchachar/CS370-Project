{
 "cells": [
  {
   "cell_type": "markdown",
   "metadata": {},
   "source": [
    "## Milestone 1"
   ]
  },
  {
   "cell_type": "code",
   "execution_count": 1,
   "metadata": {},
   "outputs": [
    {
     "name": "stdout",
     "output_type": "stream",
     "text": [
      "Downloading to: E:videos\\Robert Gates The 2021 60 Minutes Interview.mp4\n",
      "Downloading to: E:videos\\Madeleine Albright The 1997 60 Minutes Interview.mp4\n",
      "Downloading to: E:videos\\New York City Mayor Eric Adams The 60 Minutes Interview.mp4\n",
      "Downloading to: E:videos\\Laurie Anderson The 60 Minutes Interview.mp4\n",
      "Downloading to: E:videos\\Badiucao The 60 Minutes Interview.mp4\n",
      "Downloading to: E:videos\\Volodymyr Zelenskyy The 2022 60 Minutes Interview.mp4\n",
      "Downloading to: E:videos\\Bill Gates The 2021 60 Minutes interview.mp4\n",
      "Downloading to: E:videos\\P.J. O'Rourke The 1994 60 Minutes interview.mp4\n",
      "Downloading to: E:videos\\The Klitschko Brothers The 2004 60 Minutes Interview.mp4\n",
      "Downloading to: E:videos\\Secretary Pete Buttigieg The 60 Minutes Interview.mp4\n"
     ]
    }
   ],
   "source": [
    "from pytube import YouTube, Playlist\n",
    "import os\n",
    "import re\n",
    "from youtube_transcript_api import YouTubeTranscriptApi\n",
    "save_path = os.path.join(\"E:\",\"videos\")\n",
    "videos = [\"https://www.youtube.com/watch?v=mz51C3Rx6DE&list=PLI1yx5Z0Lrv77D_g1tvF9u3FVqnrNbCRL&index=67\",\n",
    "            \"https://www.youtube.com/watch?v=47aaaFhGtMM&list=PLI1yx5Z0Lrv77D_g1tvF9u3FVqnrNbCRL&index=80\",\n",
    "            \"https://www.youtube.com/watch?v=FmwP-b2rqEc&list=PLI1yx5Z0Lrv77D_g1tvF9u3FVqnrNbCRL&index=73\",\n",
    "            \"https://www.youtube.com/watch?v=rydadItdnt0&list=PLI1yx5Z0Lrv77D_g1tvF9u3FVqnrNbCRL&index=71\",\n",
    "            \"https://www.youtube.com/watch?v=pvlrQHD1etM&list=PLI1yx5Z0Lrv77D_g1tvF9u3FVqnrNbCRL&index=79\",\n",
    "            \"https://www.youtube.com/watch?v=N1vHCOD57Og&list=PLI1yx5Z0Lrv77D_g1tvF9u3FVqnrNbCRL&index=55\",\n",
    "            \"https://www.youtube.com/watch?v=bNKdlnoAqIs&list=PLI1yx5Z0Lrv77D_g1tvF9u3FVqnrNbCRL&index=27\",\n",
    "            \"https://www.youtube.com/watch?v=OvtrnLGeGlM&list=PLI1yx5Z0Lrv77D_g1tvF9u3FVqnrNbCRL&index=83\",\n",
    "            \"https://www.youtube.com/watch?v=bGaHCEZZNMI&list=PLI1yx5Z0Lrv77D_g1tvF9u3FVqnrNbCRL&index=78\",\n",
    "            \"https://www.youtube.com/watch?v=J6ILxNs1CdA&list=PLI1yx5Z0Lrv77D_g1tvF9u3FVqnrNbCRL&index=68\"]\n",
    "def sanitize_filename(filename):\n",
    "    return re.sub(r'[\\\\/*?:\"<>|]', \"\", filename)            \n",
    "for url in videos:\n",
    "    yt = YouTube(url)\n",
    "    video_id = yt.video_id\n",
    "    yt_title_sanitized = sanitize_filename(yt.title)\n",
    "\n",
    "    video_stream = yt.streams.filter(progressive=True, file_extension='mp4').order_by('resolution').desc().first()\n",
    "    if video_stream:\n",
    "        full_file_path = os.path.join(save_path, yt_title_sanitized + \".mp4\")\n",
    "        print(\"Downloading to:\", full_file_path)\n",
    "        video_stream.download(output_path=save_path, filename=yt_title_sanitized + \".mp4\") \n",
    "    caption = YouTubeTranscriptApi.get_transcript(video_id)\n",
    "    if caption:\n",
    "        caption_text = \"\\n\".join([f\"{c['text']}\" for c in caption])\n",
    "        with open(os.path.join(save_path, yt_title_sanitized + \".txt\"), \"w\", encoding=\"utf-8\") as file:\n",
    "            file.write(caption_text)       "
   ]
  },
  {
   "cell_type": "markdown",
   "metadata": {},
   "source": []
  }
 ],
 "metadata": {
  "kernelspec": {
   "display_name": "Python 3",
   "language": "python",
   "name": "python3"
  },
  "language_info": {
   "codemirror_mode": {
    "name": "ipython",
    "version": 3
   },
   "file_extension": ".py",
   "mimetype": "text/x-python",
   "name": "python",
   "nbconvert_exporter": "python",
   "pygments_lexer": "ipython3",
   "version": "3.11.5"
  }
 },
 "nbformat": 4,
 "nbformat_minor": 2
}
