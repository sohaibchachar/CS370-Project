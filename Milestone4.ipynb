{
 "cells": [
  {
   "cell_type": "code",
   "execution_count": 2,
   "metadata": {},
   "outputs": [
    {
     "name": "stdout",
     "output_type": "stream",
     "text": [
      " > tts_models/fr/css10/vits is already downloaded.\n",
      " > Using model: vits\n",
      " > Setting up Audio Processor...\n",
      " | > sample_rate:22050\n",
      " | > resample:False\n",
      " | > num_mels:80\n",
      " | > log_func:np.log10\n",
      " | > min_level_db:0\n",
      " | > frame_shift_ms:None\n",
      " | > frame_length_ms:None\n",
      " | > ref_level_db:None\n",
      " | > fft_size:1024\n",
      " | > power:None\n",
      " | > preemphasis:0.0\n",
      " | > griffin_lim_iters:None\n",
      " | > signal_norm:None\n",
      " | > symmetric_norm:None\n",
      " | > mel_fmin:0\n",
      " | > mel_fmax:None\n",
      " | > pitch_fmin:None\n",
      " | > pitch_fmax:None\n",
      " | > spec_gain:20.0\n",
      " | > stft_pad_mode:reflect\n",
      " | > max_norm:1.0\n",
      " | > clip_norm:True\n",
      " | > do_trim_silence:False\n",
      " | > trim_db:60\n",
      " | > do_sound_norm:False\n",
      " | > do_amp_to_db_linear:True\n",
      " | > do_amp_to_db_mel:True\n",
      " | > do_rms_norm:False\n",
      " | > db_level:None\n",
      " | > stats_path:None\n",
      " | > base:10\n",
      " | > hop_length:256\n",
      " | > win_length:1024\n",
      " > initialization of speaker-embedding layers.\n",
      " > initialization of language-embedding layers.\n",
      " > Text splitted to sentences.\n",
      "[\"Nous sommes à 40 jours des Jeux olympiques d'hiver de 2022 à Pékin, des matchs qui sont controversés.\", \"Pour beaucoup, la Chine est un hôte problématique, compte tenu des violations des droits de l'homme du pays et du virage autoritaire difficile.\", \"Une des voix les plus fortes qui condamne la Chine n'est pas du tout une voix, mais plutôt une main.\", \"Depuis sa sortie de Chine en 2009, l'artiste simplement connu sous le nom de Body It's Owl a utilisé son travail pour prendre le leader du pays Xi Jinping spécifiquement et le régime plus généralement.\", \"Comme tous les meilleurs caricaturistes politiques, Body It's Owl est alternativement en colère et enjoué car il attire l'attention sur ce qu'il considère comme la brutalité de la Chine.\", \"C'est courant comme un prix élevé.\", \"Body It's Owl peut ne jamais rentrer à la maison, mais sur il va voyager le monde en utilisant la peinture et l'esprit en ligne et sur les murs pour attirer la vérité au pouvoir.\", \"L'histoire va se poursuivre dans un moment.\", \"Si vous aviez été à Miami Beach cet automne, vous seriez pardonné d'avoir marché sur cette place en pensant avoir rencontré des panneaux publicitaires pour les Jeux olympiques d'hiver de Pékin.\", \"Mais un regard de plus près a révélé un argument visuel provocateur pour la raison pour laquelle la Chine n'est pas apte à accueillir les jeux.\", \"Voici un joueur de hockey chinois, sanglant un moine tibétain, un snowboarder chinois au sommet d'une caméra de surveillance, un biathlète chinois sans visage prêt à exécuter un membre de la minorité la plus faible.\", \"Un coureur représentant le retard de la Chine dans l'avertissement du monde sur COVID.\", \"C'était l'œuvre pratique de Body It's Owl, un exil chinois de 35 ans maintenant basé en Australie.\", \"J'ai remarqué que si vous regardez de près, ce ne sont pas des anneaux olympiques conventionnels.\", 'Ils sont faits de Bob Dwyer.', \"C'est exactement ainsi que la Chine va utiliser les Jeux olympiques non pas comme une célébration pour l'humanité, mais comme une plate-forme pour promouvoir sa propagande, qui est fondamentalement en train de réprimer les droits fondamentaux des gens.\", \"Body It's Owl était venu en Floride du Sud pour accepter les fondations des droits de l'homme, mais prix de la pelle douce pour l'ascendance créative.\", \"Qu'est-ce que tu vois comme le but de ton art?\", \"Parfois, j'imagine que je suis ce gamin, qu'il tient un gros rocher, et qu'il jette le rocher dans le lac.\", \"Pour que nous voyions toute l'éclaboussure, nous voyons le changement.\", \"Tu jettes ton rocher dans ce lac, tu vois l'éclaboussure, tu vois où les ondulations ondulent.\", 'Exactement.', 'La Chine ne tolère pas les ondulations.', \"En Chine, il existe des lois strictes interdisant de se moquer et d'interroger les dirigeants du Parti communiste, connu sous le nom de PCC.\", 'Même en dehors de la Chine, la descente ne va pas bien.', 'Vous sentez-vous en danger?', \"Vous sentez-vous mal à l'aise?\", \"Eh bien, c'est en fait ma routine quotidienne que je recevrais des menaces de mort dans un quotidien basé sur mes réseaux sociaux Twitter, Instagram, message direct.\", \"Body It's Ow sait qu'en tant qu'artiste qui pose le régime chinois, il risque des représailles, tant contre lui-même que contre sa famille de retour en Chine.\", \"Pendant des années, il s'est caché derrière un masque en public, travaillant dans le style Cognito, guérilla, à la fois en Australie et à tout moment qu'il voyageait.\", \"Il a adopté un pseudonyme en tant que Body It's Owl, le nom qu'il dit délibérément comme n'ayant aucun sens. Combien de gens connaissent ton vrai nom?\", \"Si tu sais que je suis Body C'est Owl, alors tu ne connais pas mon vrai nom, et si tu connais mon vrai nom, alors tu ne sais pas que je suis Body C'est Owl.\", \"Quand les Chinois ont découvert sa véritable identité il y a trois ans, Body It's Owl est d'abord entré dans la clandestinité, mais il a enlevé son masque et a continué à lancer des fléchettes au régime.\", \"Dans ce dessin animé récent, Tennis Star Pung Shui affronte la réalité d'accuser un ancien vice-premier ministre d'agression sexuelle.\", 'Je veux être une figure inspirante, je veux que mes arts aident les autres à recueillir du courage et à me rejoindre, mais si je renonce à cela, alors que dit-il aux autres?', 'Quelle est la relation entre votre popularité et votre sécurité?', \"Je pense qu'il a une relation très étroite.\", 'Donc presque plus vous êtes populaire, vous vous achetez une couche supplémentaire de sécurité.', \"Oui, et c'est la seule façon de le faire.\", \"Peut-être, mais être populaire signifie aussi que son travail a été nettoyé par des capteurs à l'intérieur de la Chine.\", \"Qu'en est-il de votre travail qui rend ce régime fou?\", \"Je suppose que c'est cette attitude que je ne me soucie pas de combien vous êtes sérieux, à quel point vous êtes dangereux.\", 'Je vais juste être moi-même.', 'Je suis un individu.', 'Je ne suis contrôlée par aucune autorité.', 'Certainement pas le PCC.', \"Ça les effraie parce que tout ce qu'ils veulent, c'est un contrôle total.\", 'On dirait que vous savez exactement quels boutons pousser, mais quels leviers tirer sur ça va les modifier.', \"Ce n'est pas moi qui trouve le bouton.\", \"C'est eux qui m'offrent le bouton.\", 'Un exemple parmi beaucoup, un meme Internet a fait surface en comparant Xi Jinping et Barack Obama à Winnie le Pooh et Tigger.', \"C'est pas grave, hein?\", 'La Chine a censuré toute mention ou image reliant Xi à Pooh.', \"Pour Buddy et Sao, c'était irrésistible.\", \"Il a créé une série de dessins animés, s'amusant à la ligne dure de Xi contre un personnage Disney animé.\", \"Qu'est-ce que c'était de gagner le Pooh?\", 'Pourquoi était-ce si efficace?', \"Parce que Winnie Pooh est tellement aimée du public, c'est tellement reconnu.\", \"Quand il est combiné avec l'image de Xi Jinping, alors les gens posent des questions, pourquoi voulez-vous supprimer cet ours jaune?\", \"Vous reconnaissez l'absurdité de cette superpuissance imposante qui est si offensée par l'ours jaune bénin.\", 'Exactement.', \"Si vous êtes dans la société démocrate, je pense que la position sera ravie s'ils peuvent comparer avec Winnie le Pooh au lieu d'un mauvais caractère.\", 'Mais on parle de Chine.', \"Lorsqu'elle a été réélue par le Parlement chinois, la marge était de 2 970 voix contre zéro.\", \"Et quand Xi s'est débarrassé des limites de terme, lui permettant de gouverner indéfiniment, Buddy et Sao ont posté cette création lang-in-cheek en ligne, il a appelé Xi pour toujours.\", \"Lorsque le Parti communiste est allé travailler sur l'adoption d'une résolution, équivalant favorablement à Xi au dictateur Mao Zedong, Buddy et Sao, armé d'affiches, colle maison dans un tapis plein d'indignation, est allé travailler à Manhattan.\", \"Il a comparé Xi à un magicien évoquant l'esprit du président Mao.\", 'Xi Jinping a essayé de se représenter comme un autre Mao Zedong, un autre fils rouge de Chine.', \"Il n'atteindra pas ce que Mao a accompli.\", \"Il ne sera pas fêté comme cette figure de dieu, comme Mao l'a apprécié à son époque.\", \"C'est par hasard que Buddy et Sao sont devenus une critique de premier plan du Parti communiste chinois.\", 'En 2007, il était étudiant en droit dans sa ville natale de Shanghai, en regardant un film en ligne lorsque le film a brusquement changé pour des images quelque part avait secrètement intégré, représentant les manifestations étudiantes de 1989 sur la place Tiananmen.', \"Et c'est en fait la toute première fois que je sais que cela existe.\", \"Alors attendez, donc vous êtes à l'école de droit, vous avez 20 ans.\", 'Je le suis.', \"La première fois que vous entendez parler des massacres de la place Tiananmen dans le monde entier, et la première fois que vous entendez parler de cela, c'est quand au hasard oui c'est dans un documentaire que vous voyez.\", 'Oui, grâce à un dissident intelligent qui a fait en sorte que ça arrive.', \"Tes parents ne t'en ont pas parlé?\", 'Jamais.', 'Professeurs?', 'Jamais.', 'Découvrir la vérité sur la place Tiananmen fait Buddy et Sao veulent quitter la Chine.', \"Ce n'était pas juste ce qui s'était passé, c'était comme ça que l'histoire a été effacée.\", \"En 2009, il s'est réinstallé en Australie, a renoncé à la loi et a commencé à dessiner, malgré l'absence de formation formelle.\", \"Il finit par s'affilier, en voyageant dans l'art de la rue pour mettre en lumière la répression chinoise.\", \"Dans ces scènes du documentaire australien China's artful dissident, Buddy et Sao, encore masqué, posé devant Brandon Bergate de Berlin.\", \"Il a honoré l'un des sujets les plus tabous de Chine, Tankman, le protestataire pro-démocratie sans nom qui s'est tenu devant l'armée chinoise en 1989.\", 'Tankman est le fantôme hantant le PCC le plus.', 'Que représente Tankman?', \"Il montre que tout peuple ou personne ordinaire pourrait avoir le courage de se tenir devant l'objet le plus puissant.\", \"Je sais que l'image de Tankman est toujours près de toi.\", 'Avant le 25e anniversaire du massacre de Tiananmen, je veux juste quelque chose sur mon bras droit, le bras que je dessinais, comme un rappel que ce type chinois ordinaire qui recueille tout le courage dans le monde et se pousse devant un char est intrépide.', 'Pendant son séjour aux États-Unis, Buddy et Sao ont rencontré des étudiants qui ont marché pour la démocratie sur la place Tiananmen.', \"Ils sont maintenant d'âge moyen, exilés, et portent toujours des cicatrices.\", 'Fang Zheng a perdu ses jambes dans un char pendant le massacre.', \"Zhou Feng Suo a été parmi les premiers à entrer sur la place Tiananmen et l'un des derniers à l'ancien étudiant C. Buddy et Sao en gardant leurs idéaux vivants.\", 'Il est important pour la prochaine génération de porter la torche.', 'Je vois cet espoir sur lui, et il est si créatif.', \"C'est ce que tu ressens.\", 'Il porte la torche pour ce que votre génération a commencé.', \"Oui, c'est sûr.\", 'En tant que leader de la protestation, Zhou est devenu le cinquième homme le plus recherché en Chine.', \"Il a passé un an en prison, puis s'est enfui aux États-Unis au milieu des années 90.\", \"Zhou's China ne sait pas comment gérer Buddy et Sao.\", \"L'influence chinoise sur le monde est si cohésive et ils peuvent tout contrôler, par exemple, les entreprises américaines, mais ils ne peuvent pas changer Buddy et Sao.\", \"Cette seule personne qui peut toujours sortir avec des arts sans fin défier l'autorité.\", \"Je pense que le Parti communiste chinois peut faire pression sur les entreprises et d'autres nations, mais ils ne peuvent pas.\", 'Ils ne peuvent pas changer ce type.', \"C'est l'esprit de Tiananmen.\", 'La personne ou sa nation totalitaire.', \"C'est un string dans les yeux.\", \"Buddy et Sao sont peut-être seuls dissonants, prenant le plus grand gouvernement du monde, mais il est convaincu qu'il n'a pas d'exercice et de futilité.\", 'Il a dit que vous admiriez le sysifice mythologique de la figure.', 'Oui.', \"Qu'est-ce que tu veux dire par là?\", \"Sa mission semble condamnée qu'il ne poussera jamais le rocher au sommet de la montagne.\", \"C'est un peu comme moi quand je crée des œuvres d'art pour défier le régime chinois.\", 'Je ne sais pas quand il sera changé, ou je ne sais pas si mon travail le changerait du tout.', \"Mais même si c'est une réalité, cela signifie-t-il que mon travail n'a pas de sens?\", 'Je ne crois pas.', \"En septembre, Buddy et Sao ont sorti son pinceau pour exprimer son indignation à l'égard de la répression chinoise contre Hong Kong.\", 'Fashionnant le leader de Hong Kong Carrie Lam comme une marionnette de Xi Jinping, Buddy et Sao se mêlèrent les visages.', \"Le mois dernier dans le nord de l'Italie, un centre d'art, qui a combiné l'image a accueilli les visiteurs comme Buddy et Sao a tenu sa première grande exposition solo dans la ville de Brescia.\", \"Ça n'est presque pas arrivé.\", 'À la dernière minute, la Chine a essayé de fléchir son muscle.', \"Plus précisément, l'ambassade de Chine à Rome a exigé que le spectacle soit annulé parce que l'exposition était pleine de mensonges antichinois.\", \"Serait gravement blessé les sentiments du peuple chinois, et représentait une menace pour les relations amicales entre la Chine et l'Italie.\", 'Les autorités italiennes ont tenu ferme, et le spectacle a continué.', \"Il y a eu un clin d'œil à ce que Buddy et Sao voit que la réponse de Xi volontairement lent à COVID, et il a rendu hommage à la minorité la plus faible que la Chine a emprisonnée.\", \"Dans quelle mesure représentez-vous les gens qui ne peuvent pas s'exprimer en Chine?\", \"Je pense que c'est la réalité que les Chinois n'ont pas le sentiment de la sécurité qu'ils peuvent parler librement, mais je suis dans cette position privilégiée que je ne suis pas en Chine.\", \"J'ai donc toutes les responsabilités de faire entendre ma voix, de devenir leur voix.\"]\n",
      "nous sommes à 40 jours des jeux olympiques d'hiver de 2022 à pékin, des matchs qui sont controversés.\n",
      " [!] Character '4' not found in the vocabulary. Discarding it.\n",
      "nous sommes à 40 jours des jeux olympiques d'hiver de 2022 à pékin, des matchs qui sont controversés.\n",
      " [!] Character '0' not found in the vocabulary. Discarding it.\n",
      "nous sommes à 40 jours des jeux olympiques d'hiver de 2022 à pékin, des matchs qui sont controversés.\n",
      " [!] Character '2' not found in the vocabulary. Discarding it.\n",
      "depuis sa sortie de chine en 2009, l'artiste simplement connu sous le nom de body it's owl a utilisé son travail pour prendre le leader du pays xi jinping spécifiquement et le régime plus généralement.\n",
      " [!] Character '9' not found in the vocabulary. Discarding it.\n"
     ]
    }
   ],
   "source": [
    "import os\n",
    "from TTS.api import TTS\n",
    "tts = TTS(model_name=\"tts_models/fr/css10/vits\")\n",
    "\n",
    "def convert_to_speech(text_folder, audio_folder):\n",
    "    for filename in os.listdir(text_folder):\n",
    "        \n",
    "        file_path = os.path.join(text_folder, filename)\n",
    "        with open(file_path, 'r', encoding='utf-8') as file:\n",
    "            text = file.read()\n",
    "            audio_path = os.path.join(audio_folder, filename.replace('.txt', '.mp3'))\n",
    "            tts.tts_to_file(text=text, file_path=audio_path)\n",
    "            print(f\"Converted {filename} to speech and saved as {audio_path}\")\n",
    "\n",
    "text_folder = 'E:\\\\NJIT\\\\Fall 2023\\\\Intro to AI\\\\Project\\\\CS370-Project\\\\translated_text'\n",
    "TTS_folder = 'TTS_audio'\n",
    "os.makedirs(TTS_folder, exist_ok=True)\n",
    "convert_to_speech(text_folder, TTS_folder)"
   ]
  },
  {
   "cell_type": "code",
   "execution_count": null,
   "metadata": {},
   "outputs": [],
   "source": []
  }
 ],
 "metadata": {
  "kernelspec": {
   "display_name": "base",
   "language": "python",
   "name": "python3"
  },
  "language_info": {
   "codemirror_mode": {
    "name": "ipython",
    "version": 3
   },
   "file_extension": ".py",
   "mimetype": "text/x-python",
   "name": "python",
   "nbconvert_exporter": "python",
   "pygments_lexer": "ipython3",
   "version": "3.11.4"
  }
 },
 "nbformat": 4,
 "nbformat_minor": 2
}
